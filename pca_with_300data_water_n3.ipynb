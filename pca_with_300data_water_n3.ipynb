{
 "cells": [
  {
   "cell_type": "markdown",
   "id": "46d7659c",
   "metadata": {},
   "source": [
    "# PCA with replicate dataset\n",
    "Dataset: urea in water absorbance spectra with replicates of 3\n",
    "- Uses `uvvis_absorbances_w_repliacates_shape.csv` which is in the correct shape for regression\n",
    "- Computes wavelength start and end for max r^2 values for both PLS and PCR"
   ]
  },
  {
   "cell_type": "code",
   "execution_count": 1,
   "id": "4cf1184b",
   "metadata": {},
   "outputs": [],
   "source": [
    "# Import packages\n",
    "\n",
    "# Pandas library for the pandas dataframes\n",
    "\n",
    "import matplotlib.pyplot as plt\n",
    "import numpy as np\n",
    "import pandas as pd   \n",
    "\n",
    "from sklearn.model_selection import train_test_split\n",
    "from sklearn.pipeline import make_pipeline\n",
    "from sklearn.linear_model import LinearRegression\n",
    "from sklearn.preprocessing import StandardScaler\n",
    "from sklearn.decomposition import PCA\n",
    "from sklearn.cross_decomposition import PLSRegression"
   ]
  },
  {
   "cell_type": "code",
   "execution_count": 77,
   "id": "74ae95de",
   "metadata": {},
   "outputs": [],
   "source": [
    "# Import data\n",
    "\n",
    "abs_data = pd.read_csv('uvvis_absorbances_w_replicates_shape.csv')\n",
    "\n",
    "# Date Codes:\n",
    "# 44482 = 10/13/2021\n",
    "# 44496 = 10/27/2021\n",
    "# 44418 = 8/10/2021"
   ]
  },
  {
   "cell_type": "markdown",
   "id": "e26383ba",
   "metadata": {},
   "source": [
    "### Specify features (X) and target (y)"
   ]
  },
  {
   "cell_type": "code",
   "execution_count": 97,
   "id": "af06d891",
   "metadata": {},
   "outputs": [],
   "source": [
    "X = abs_data.iloc[:, 10:25].values\n",
    "y = abs_data[['urea_concentration (mM)']].values.reshape(-1, 1)\n",
    "\n",
    "X_train, X_test, y_train, y_test = train_test_split(X, y, test_size=0.2, random_state=4, shuffle=True)"
   ]
  },
  {
   "cell_type": "code",
   "execution_count": 98,
   "id": "f3d3b584",
   "metadata": {},
   "outputs": [
    {
     "data": {
      "image/png": "[encoded data removed]",
      "text/plain": [
       "<Figure size 720x216 with 2 Axes>"
      ]
     },
     "metadata": {
      "needs_background": "light"
     },
     "output_type": "display_data"
    }
   ],
   "source": [
    "pcr = make_pipeline(StandardScaler(), PCA(n_components=1), LinearRegression())\n",
    "pcr.fit(X_train, y_train)\n",
    "pca = pcr.named_steps[\"pca\"]  # retrieve the PCA step of the pipeline\n",
    "\n",
    "pls = PLSRegression(n_components=1)\n",
    "pls.fit(X_train, y_train)\n",
    "\n",
    "fig, axes = plt.subplots(1, 2, figsize=(10, 3))\n",
    "axes[0].scatter(pca.transform(X_test), y_test, alpha=0.3, label=\"ground truth\")\n",
    "axes[0].scatter(\n",
    "    pca.transform(X_test), pcr.predict(X_test), alpha=0.3, label=\"predictions\"\n",
    ")\n",
    "axes[0].set(\n",
    "    xlabel=\"Projected data onto first PCA component\", ylabel=\"y\", title=\"PCR / PCA\"\n",
    ")\n",
    "axes[0].legend()\n",
    "axes[1].scatter(pls.transform(X_test), y_test, alpha=0.3, label=\"ground truth\")\n",
    "axes[1].scatter(\n",
    "    pls.transform(X_test), pls.predict(X_test), alpha=0.3, label=\"predictions\"\n",
    ")\n",
    "axes[1].set(xlabel=\"Projected data onto first PLS component\", ylabel=\"y\", title=\"PLS\")\n",
    "axes[1].legend()\n",
    "plt.tight_layout()\n",
    "plt.show()"
   ]
  },
  {
   "cell_type": "code",
   "execution_count": 99,
   "id": "565b824c",
   "metadata": {
    "scrolled": true
   },
   "outputs": [
    {
     "name": "stdout",
     "output_type": "stream",
     "text": [
      "PCR r-squared 0.973\n",
      "PLS r-squared 0.975\n"
     ]
    }
   ],
   "source": [
    "print(f\"PCR r-squared {pcr.score(X_test, y_test):.3f}\")\n",
    "print(f\"PLS r-squared {pls.score(X_test, y_test):.3f}\")"
   ]
  },
  {
   "cell_type": "markdown",
   "id": "ca0a5bab",
   "metadata": {},
   "source": [
    "## Find best range of wavelength data"
   ]
  },
  {
   "cell_type": "code",
   "execution_count": 96,
   "id": "857e3652",
   "metadata": {},
   "outputs": [
    {
     "name": "stdout",
     "output_type": "stream",
     "text": [
      "Max principal components regression (PCR) score: 0.9728822553245573\n",
      "Max PCR score starting wavelength: 10\n",
      "Max PCR score stopping wavelength: 25\n",
      "Max partial least squasres (PLS) regression score: 0.9747855209174179\n",
      "Max PLS score starting wavelength: 10\n",
      "Max PLS score stopping wavelength: 25\n"
     ]
    }
   ],
   "source": [
    "# Create integer lists of starting wavelengths and stopping wavelengths to probe\n",
    "start_wl = np.linspace(1, 10, num=10)\n",
    "start_wl = [round(x) for x in start_wl]\n",
    "stop_wl = np.linspace(11, 100, num=90)\n",
    "stop_wl = [round(x) for x in stop_wl]\n",
    "\n",
    "# Initiate lists for results\n",
    "starting_wavelength = []\n",
    "stopping_wavelength = []\n",
    "pcr_r_squared = []\n",
    "pls_r_squared = []\n",
    "\n",
    "for start in start_wl:\n",
    "    for stop in stop_wl:\n",
    "        X = abs_data.iloc[:, start:stop].values\n",
    "        y = abs_data[['urea_concentration (mM)']].values.reshape(-1, 1)\n",
    "\n",
    "        X_train, X_test, y_train, y_test = train_test_split(X, y, test_size=0.2, random_state=4, shuffle=True)\n",
    "        \n",
    "        pcr = make_pipeline(StandardScaler(), PCA(n_components=1), LinearRegression())\n",
    "        pcr.fit(X_train, y_train)\n",
    "        pca = pcr.named_steps[\"pca\"]  # retrieve the PCA step of the pipeline\n",
    "\n",
    "        pls = PLSRegression(n_components=1)\n",
    "        pls.fit(X_train, y_train)\n",
    "        \n",
    "        starting_wavelength.append(start)\n",
    "        stopping_wavelength.append(stop)\n",
    "        pcr_r_squared.append(pcr.score(X_test, y_test))\n",
    "        pls_r_squared.append(pls.score(X_test, y_test))\n",
    "        \n",
    "# Choose the highest pcr and pls scores and report\n",
    "pcr_array = np.array(pcr_r_squared)\n",
    "pcr_max_index = pcr_array.argmax()\n",
    "\n",
    "pls_array = np.array(pls_r_squared)\n",
    "pls_max_index = pls_array.argmax()\n",
    "\n",
    "print(f'Max principal components regression (PCR) score: {pcr_r_squared[pcr_max_index]}')\n",
    "print(f'Max PCR score starting wavelength: {starting_wavelength[pcr_max_index]}')\n",
    "print(f'Max PCR score stopping wavelength: {stopping_wavelength[pcr_max_index]}')\n",
    "\n",
    "print(f'Max partial least squasres (PLS) regression score: {pls_r_squared[pls_max_index]}')\n",
    "print(f'Max PLS score starting wavelength: {starting_wavelength[pls_max_index]}')\n",
    "print(f'Max PLS score stopping wavelength: {stopping_wavelength[pls_max_index]}')"
   ]
  },
  {
   "cell_type": "code",
   "execution_count": null,
   "id": "97436807",
   "metadata": {},
   "outputs": [],
   "source": []
  }
 ],
 "metadata": {
  "kernelspec": {
   "display_name": "Python 3 (ipykernel)",
   "language": "python",
   "name": "python3"
  },
  "language_info": {
   "codemirror_mode": {
    "name": "ipython",
    "version": 3
   },
   "file_extension": ".py",
   "mimetype": "text/x-python",
   "name": "python",
   "nbconvert_exporter": "python",
   "pygments_lexer": "ipython3",
   "version": "3.8.5"
  }
 },
 "nbformat": 4,
 "nbformat_minor": 5
}
